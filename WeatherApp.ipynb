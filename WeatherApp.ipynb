{
  "cells": [
    {
      "cell_type": "markdown",
      "metadata": {
        "id": "CzxcA1vla_Nv"
      },
      "source": [
        "# Importing Libraries"
      ]
    },
    {
      "cell_type": "code",
      "execution_count": null,
      "metadata": {
        "id": "YKznG28oyYrB"
      },
      "outputs": [],
      "source": [
        "import pandas as pd\n",
        "import numpy as np\n"
      ]
    },
    {
      "cell_type": "markdown",
      "metadata": {
        "id": "ik8WoK8RbE0Z"
      },
      "source": [
        "# Importing DataSet"
      ]
    },
    {
      "cell_type": "code",
      "execution_count": null,
      "metadata": {
        "id": "yxDJJBS3ypg6"
      },
      "outputs": [],
      "source": [
        "dataset = pd.read_csv(\"/content/weather.csv\")\n",
        "X = dataset.iloc[:,[0,1,2,5,6,7,8,9,10,11,12,13,14,15,16,17,18,19]].values\n",
        "Y = dataset.iloc[:,-1].values"
      ]
    },
    {
      "cell_type": "code",
      "execution_count": null,
      "metadata": {
        "colab": {
          "base_uri": "https://localhost:8080/"
        },
        "id": "gNOI3sumLwso",
        "outputId": "16e7e025-b1be-4d91-e196-ec1bb871b6de"
      },
      "outputs": [
        {
          "output_type": "stream",
          "name": "stdout",
          "text": [
            "[[8.0 24.3 0.0 ... 14.4 23.6 'No']\n",
            " [14.0 26.9 3.6 ... 17.5 25.7 'Yes']\n",
            " [13.7 23.4 3.6 ... 15.4 20.2 'Yes']\n",
            " ...\n",
            " [12.5 19.9 0.0 ... 14.5 18.3 'No']\n",
            " [12.5 26.9 0.0 ... 15.8 25.9 'No']\n",
            " [12.3 30.2 0.0 ... 23.8 28.6 'No']]\n"
          ]
        }
      ],
      "source": [
        "print(X)"
      ]
    },
    {
      "cell_type": "code",
      "execution_count": null,
      "metadata": {
        "colab": {
          "base_uri": "https://localhost:8080/"
        },
        "id": "e3RJztNiL1iA",
        "outputId": "33021d24-d3d4-4ec1-e564-e9e3b892f2a3"
      },
      "outputs": [
        {
          "output_type": "stream",
          "name": "stdout",
          "text": [
            "['Yes' 'Yes' 'Yes' 'Yes' 'No' 'No' 'No' 'No' 'Yes' 'No' 'No' 'No' 'No'\n",
            " 'No' 'No' 'No' 'Yes' 'No' 'No' 'No' 'No' 'Yes' 'No' 'No' 'No' 'No' 'No'\n",
            " 'No' 'No' 'Yes' 'Yes' 'No' 'Yes' 'No' 'No' 'No' 'Yes' 'No' 'No' 'No' 'No'\n",
            " 'No' 'No' 'No' 'Yes' 'Yes' 'No' 'No' 'Yes' 'Yes' 'Yes' 'Yes' 'No' 'Yes'\n",
            " 'No' 'No' 'Yes' 'No' 'No' 'No' 'No' 'No' 'No' 'No' 'No' 'No' 'No' 'No'\n",
            " 'No' 'No' 'No' 'No' 'Yes' 'No' 'No' 'No' 'Yes' 'No' 'Yes' 'Yes' 'No' 'No'\n",
            " 'No' 'No' 'No' 'No' 'No' 'No' 'No' 'No' 'Yes' 'Yes' 'No' 'No' 'Yes' 'Yes'\n",
            " 'No' 'No' 'Yes' 'No' 'No' 'No' 'Yes' 'Yes' 'No' 'No' 'No' 'No' 'No' 'No'\n",
            " 'No' 'Yes' 'Yes' 'No' 'No' 'No' 'No' 'No' 'No' 'Yes' 'No' 'No' 'No' 'No'\n",
            " 'No' 'No' 'No' 'Yes' 'No' 'No' 'No' 'No' 'No' 'No' 'No' 'No' 'No' 'No'\n",
            " 'No' 'No' 'No' 'No' 'No' 'No' 'Yes' 'Yes' 'No' 'No' 'No' 'No' 'No' 'No'\n",
            " 'No' 'Yes' 'No' 'No' 'No' 'No' 'No' 'No' 'No' 'No' 'No' 'Yes' 'Yes' 'No'\n",
            " 'No' 'No' 'No' 'No' 'No' 'No' 'No' 'No' 'No' 'No' 'No' 'No' 'Yes' 'No'\n",
            " 'No' 'No' 'No' 'No' 'No' 'No' 'No' 'No' 'No' 'No' 'No' 'No' 'No' 'No'\n",
            " 'No' 'No' 'Yes' 'No' 'No' 'No' 'No' 'No' 'No' 'No' 'No' 'No' 'Yes' 'Yes'\n",
            " 'No' 'No' 'No' 'No' 'No' 'No' 'No' 'Yes' 'No' 'No' 'No' 'No' 'No' 'Yes'\n",
            " 'Yes' 'No' 'No' 'No' 'No' 'No' 'No' 'No' 'No' 'Yes' 'No' 'No' 'No' 'No'\n",
            " 'No' 'No' 'No' 'No' 'No' 'No' 'Yes' 'No' 'No' 'No' 'No' 'No' 'No' 'Yes'\n",
            " 'No' 'No' 'Yes' 'No' 'No' 'No' 'No' 'No' 'No' 'No' 'Yes' 'No' 'Yes' 'No'\n",
            " 'No' 'No' 'No' 'No' 'No' 'Yes' 'No' 'No' 'No' 'No' 'Yes' 'No' 'No' 'No'\n",
            " 'Yes' 'No' 'Yes' 'No' 'No' 'No' 'No' 'No' 'No' 'No' 'No' 'No' 'No' 'No'\n",
            " 'No' 'No' 'No' 'No' 'No' 'No' 'No' 'No' 'No' 'No' 'No' 'Yes' 'Yes' 'No'\n",
            " 'No' 'No' 'No' 'No' 'No' 'No' 'No' 'No' 'No' 'No' 'No' 'Yes' 'Yes' 'Yes'\n",
            " 'No' 'No' 'No' 'No' 'No' 'No' 'Yes' 'No' 'No' 'No' 'No' 'No' 'No' 'No'\n",
            " 'No' 'No' 'No' 'Yes' 'Yes' 'No' 'Yes' 'No' 'No' 'No' 'No' 'No' 'No' 'Yes'\n",
            " 'No' 'No' 'No' 'No' 'No' 'No' 'No' 'No' 'No' 'No' 'No' 'No' 'No' 'No'\n",
            " 'No' 'No' 'No' 'No']\n"
          ]
        }
      ],
      "source": [
        "print(Y)"
      ]
    },
    {
      "cell_type": "code",
      "execution_count": null,
      "metadata": {
        "id": "bzgXy_7jMt0y"
      },
      "outputs": [],
      "source": [
        "Y = Y.reshape(-1,1) #1D list into 2D"
      ]
    },
    {
      "cell_type": "code",
      "execution_count": null,
      "metadata": {
        "colab": {
          "base_uri": "https://localhost:8080/"
        },
        "id": "glQZOCAoN2Y3",
        "outputId": "21e46f7d-7149-46a4-9c90-8e3b677efb12"
      },
      "outputs": [
        {
          "output_type": "stream",
          "name": "stdout",
          "text": [
            "[['Yes']\n",
            " ['Yes']\n",
            " ['Yes']\n",
            " ['Yes']\n",
            " ['No']\n",
            " ['No']\n",
            " ['No']\n",
            " ['No']\n",
            " ['Yes']\n",
            " ['No']\n",
            " ['No']\n",
            " ['No']\n",
            " ['No']\n",
            " ['No']\n",
            " ['No']\n",
            " ['No']\n",
            " ['Yes']\n",
            " ['No']\n",
            " ['No']\n",
            " ['No']\n",
            " ['No']\n",
            " ['Yes']\n",
            " ['No']\n",
            " ['No']\n",
            " ['No']\n",
            " ['No']\n",
            " ['No']\n",
            " ['No']\n",
            " ['No']\n",
            " ['Yes']\n",
            " ['Yes']\n",
            " ['No']\n",
            " ['Yes']\n",
            " ['No']\n",
            " ['No']\n",
            " ['No']\n",
            " ['Yes']\n",
            " ['No']\n",
            " ['No']\n",
            " ['No']\n",
            " ['No']\n",
            " ['No']\n",
            " ['No']\n",
            " ['No']\n",
            " ['Yes']\n",
            " ['Yes']\n",
            " ['No']\n",
            " ['No']\n",
            " ['Yes']\n",
            " ['Yes']\n",
            " ['Yes']\n",
            " ['Yes']\n",
            " ['No']\n",
            " ['Yes']\n",
            " ['No']\n",
            " ['No']\n",
            " ['Yes']\n",
            " ['No']\n",
            " ['No']\n",
            " ['No']\n",
            " ['No']\n",
            " ['No']\n",
            " ['No']\n",
            " ['No']\n",
            " ['No']\n",
            " ['No']\n",
            " ['No']\n",
            " ['No']\n",
            " ['No']\n",
            " ['No']\n",
            " ['No']\n",
            " ['No']\n",
            " ['Yes']\n",
            " ['No']\n",
            " ['No']\n",
            " ['No']\n",
            " ['Yes']\n",
            " ['No']\n",
            " ['Yes']\n",
            " ['Yes']\n",
            " ['No']\n",
            " ['No']\n",
            " ['No']\n",
            " ['No']\n",
            " ['No']\n",
            " ['No']\n",
            " ['No']\n",
            " ['No']\n",
            " ['No']\n",
            " ['No']\n",
            " ['Yes']\n",
            " ['Yes']\n",
            " ['No']\n",
            " ['No']\n",
            " ['Yes']\n",
            " ['Yes']\n",
            " ['No']\n",
            " ['No']\n",
            " ['Yes']\n",
            " ['No']\n",
            " ['No']\n",
            " ['No']\n",
            " ['Yes']\n",
            " ['Yes']\n",
            " ['No']\n",
            " ['No']\n",
            " ['No']\n",
            " ['No']\n",
            " ['No']\n",
            " ['No']\n",
            " ['No']\n",
            " ['Yes']\n",
            " ['Yes']\n",
            " ['No']\n",
            " ['No']\n",
            " ['No']\n",
            " ['No']\n",
            " ['No']\n",
            " ['No']\n",
            " ['Yes']\n",
            " ['No']\n",
            " ['No']\n",
            " ['No']\n",
            " ['No']\n",
            " ['No']\n",
            " ['No']\n",
            " ['No']\n",
            " ['Yes']\n",
            " ['No']\n",
            " ['No']\n",
            " ['No']\n",
            " ['No']\n",
            " ['No']\n",
            " ['No']\n",
            " ['No']\n",
            " ['No']\n",
            " ['No']\n",
            " ['No']\n",
            " ['No']\n",
            " ['No']\n",
            " ['No']\n",
            " ['No']\n",
            " ['No']\n",
            " ['No']\n",
            " ['Yes']\n",
            " ['Yes']\n",
            " ['No']\n",
            " ['No']\n",
            " ['No']\n",
            " ['No']\n",
            " ['No']\n",
            " ['No']\n",
            " ['No']\n",
            " ['Yes']\n",
            " ['No']\n",
            " ['No']\n",
            " ['No']\n",
            " ['No']\n",
            " ['No']\n",
            " ['No']\n",
            " ['No']\n",
            " ['No']\n",
            " ['No']\n",
            " ['Yes']\n",
            " ['Yes']\n",
            " ['No']\n",
            " ['No']\n",
            " ['No']\n",
            " ['No']\n",
            " ['No']\n",
            " ['No']\n",
            " ['No']\n",
            " ['No']\n",
            " ['No']\n",
            " ['No']\n",
            " ['No']\n",
            " ['No']\n",
            " ['No']\n",
            " ['Yes']\n",
            " ['No']\n",
            " ['No']\n",
            " ['No']\n",
            " ['No']\n",
            " ['No']\n",
            " ['No']\n",
            " ['No']\n",
            " ['No']\n",
            " ['No']\n",
            " ['No']\n",
            " ['No']\n",
            " ['No']\n",
            " ['No']\n",
            " ['No']\n",
            " ['No']\n",
            " ['No']\n",
            " ['No']\n",
            " ['Yes']\n",
            " ['No']\n",
            " ['No']\n",
            " ['No']\n",
            " ['No']\n",
            " ['No']\n",
            " ['No']\n",
            " ['No']\n",
            " ['No']\n",
            " ['No']\n",
            " ['Yes']\n",
            " ['Yes']\n",
            " ['No']\n",
            " ['No']\n",
            " ['No']\n",
            " ['No']\n",
            " ['No']\n",
            " ['No']\n",
            " ['No']\n",
            " ['Yes']\n",
            " ['No']\n",
            " ['No']\n",
            " ['No']\n",
            " ['No']\n",
            " ['No']\n",
            " ['Yes']\n",
            " ['Yes']\n",
            " ['No']\n",
            " ['No']\n",
            " ['No']\n",
            " ['No']\n",
            " ['No']\n",
            " ['No']\n",
            " ['No']\n",
            " ['No']\n",
            " ['Yes']\n",
            " ['No']\n",
            " ['No']\n",
            " ['No']\n",
            " ['No']\n",
            " ['No']\n",
            " ['No']\n",
            " ['No']\n",
            " ['No']\n",
            " ['No']\n",
            " ['No']\n",
            " ['Yes']\n",
            " ['No']\n",
            " ['No']\n",
            " ['No']\n",
            " ['No']\n",
            " ['No']\n",
            " ['No']\n",
            " ['Yes']\n",
            " ['No']\n",
            " ['No']\n",
            " ['Yes']\n",
            " ['No']\n",
            " ['No']\n",
            " ['No']\n",
            " ['No']\n",
            " ['No']\n",
            " ['No']\n",
            " ['No']\n",
            " ['Yes']\n",
            " ['No']\n",
            " ['Yes']\n",
            " ['No']\n",
            " ['No']\n",
            " ['No']\n",
            " ['No']\n",
            " ['No']\n",
            " ['No']\n",
            " ['Yes']\n",
            " ['No']\n",
            " ['No']\n",
            " ['No']\n",
            " ['No']\n",
            " ['Yes']\n",
            " ['No']\n",
            " ['No']\n",
            " ['No']\n",
            " ['Yes']\n",
            " ['No']\n",
            " ['Yes']\n",
            " ['No']\n",
            " ['No']\n",
            " ['No']\n",
            " ['No']\n",
            " ['No']\n",
            " ['No']\n",
            " ['No']\n",
            " ['No']\n",
            " ['No']\n",
            " ['No']\n",
            " ['No']\n",
            " ['No']\n",
            " ['No']\n",
            " ['No']\n",
            " ['No']\n",
            " ['No']\n",
            " ['No']\n",
            " ['No']\n",
            " ['No']\n",
            " ['No']\n",
            " ['No']\n",
            " ['No']\n",
            " ['Yes']\n",
            " ['Yes']\n",
            " ['No']\n",
            " ['No']\n",
            " ['No']\n",
            " ['No']\n",
            " ['No']\n",
            " ['No']\n",
            " ['No']\n",
            " ['No']\n",
            " ['No']\n",
            " ['No']\n",
            " ['No']\n",
            " ['No']\n",
            " ['Yes']\n",
            " ['Yes']\n",
            " ['Yes']\n",
            " ['No']\n",
            " ['No']\n",
            " ['No']\n",
            " ['No']\n",
            " ['No']\n",
            " ['No']\n",
            " ['Yes']\n",
            " ['No']\n",
            " ['No']\n",
            " ['No']\n",
            " ['No']\n",
            " ['No']\n",
            " ['No']\n",
            " ['No']\n",
            " ['No']\n",
            " ['No']\n",
            " ['No']\n",
            " ['Yes']\n",
            " ['Yes']\n",
            " ['No']\n",
            " ['Yes']\n",
            " ['No']\n",
            " ['No']\n",
            " ['No']\n",
            " ['No']\n",
            " ['No']\n",
            " ['No']\n",
            " ['Yes']\n",
            " ['No']\n",
            " ['No']\n",
            " ['No']\n",
            " ['No']\n",
            " ['No']\n",
            " ['No']\n",
            " ['No']\n",
            " ['No']\n",
            " ['No']\n",
            " ['No']\n",
            " ['No']\n",
            " ['No']\n",
            " ['No']\n",
            " ['No']\n",
            " ['No']\n",
            " ['No']\n",
            " ['No']\n",
            " ['No']]\n"
          ]
        }
      ],
      "source": [
        "print(Y)"
      ]
    },
    {
      "cell_type": "markdown",
      "metadata": {
        "id": "Ig6EvDKAYK6o"
      },
      "source": [
        "# Dealing with Invalid Dataset"
      ]
    },
    {
      "cell_type": "code",
      "execution_count": null,
      "metadata": {
        "colab": {
          "base_uri": "https://localhost:8080/"
        },
        "id": "Yu5-T1EQXf7j",
        "outputId": "77cd4e15-c152-4232-faba-f3496d3773f0"
      },
      "outputs": [
        {
          "output_type": "stream",
          "name": "stdout",
          "text": [
            "[[8.0 24.3 0.0 ... 14.4 23.6 'No']\n",
            " [14.0 26.9 3.6 ... 17.5 25.7 'Yes']\n",
            " [13.7 23.4 3.6 ... 15.4 20.2 'Yes']\n",
            " ...\n",
            " [12.5 19.9 0.0 ... 14.5 18.3 'No']\n",
            " [12.5 26.9 0.0 ... 15.8 25.9 'No']\n",
            " [12.3 30.2 0.0 ... 23.8 28.6 'No']]\n"
          ]
        }
      ],
      "source": [
        "print(X)"
      ]
    },
    {
      "cell_type": "code",
      "execution_count": null,
      "metadata": {
        "colab": {
          "base_uri": "https://localhost:8080/"
        },
        "id": "PktqI2MbaSkf",
        "outputId": "71b6e335-b72c-41ba-a242-bb838091bd46"
      },
      "outputs": [
        {
          "output_type": "stream",
          "name": "stdout",
          "text": [
            "[['Yes']\n",
            " ['Yes']\n",
            " ['Yes']\n",
            " ['Yes']\n",
            " ['No']\n",
            " ['No']\n",
            " ['No']\n",
            " ['No']\n",
            " ['Yes']\n",
            " ['No']\n",
            " ['No']\n",
            " ['No']\n",
            " ['No']\n",
            " ['No']\n",
            " ['No']\n",
            " ['No']\n",
            " ['Yes']\n",
            " ['No']\n",
            " ['No']\n",
            " ['No']\n",
            " ['No']\n",
            " ['Yes']\n",
            " ['No']\n",
            " ['No']\n",
            " ['No']\n",
            " ['No']\n",
            " ['No']\n",
            " ['No']\n",
            " ['No']\n",
            " ['Yes']\n",
            " ['Yes']\n",
            " ['No']\n",
            " ['Yes']\n",
            " ['No']\n",
            " ['No']\n",
            " ['No']\n",
            " ['Yes']\n",
            " ['No']\n",
            " ['No']\n",
            " ['No']\n",
            " ['No']\n",
            " ['No']\n",
            " ['No']\n",
            " ['No']\n",
            " ['Yes']\n",
            " ['Yes']\n",
            " ['No']\n",
            " ['No']\n",
            " ['Yes']\n",
            " ['Yes']\n",
            " ['Yes']\n",
            " ['Yes']\n",
            " ['No']\n",
            " ['Yes']\n",
            " ['No']\n",
            " ['No']\n",
            " ['Yes']\n",
            " ['No']\n",
            " ['No']\n",
            " ['No']\n",
            " ['No']\n",
            " ['No']\n",
            " ['No']\n",
            " ['No']\n",
            " ['No']\n",
            " ['No']\n",
            " ['No']\n",
            " ['No']\n",
            " ['No']\n",
            " ['No']\n",
            " ['No']\n",
            " ['No']\n",
            " ['Yes']\n",
            " ['No']\n",
            " ['No']\n",
            " ['No']\n",
            " ['Yes']\n",
            " ['No']\n",
            " ['Yes']\n",
            " ['Yes']\n",
            " ['No']\n",
            " ['No']\n",
            " ['No']\n",
            " ['No']\n",
            " ['No']\n",
            " ['No']\n",
            " ['No']\n",
            " ['No']\n",
            " ['No']\n",
            " ['No']\n",
            " ['Yes']\n",
            " ['Yes']\n",
            " ['No']\n",
            " ['No']\n",
            " ['Yes']\n",
            " ['Yes']\n",
            " ['No']\n",
            " ['No']\n",
            " ['Yes']\n",
            " ['No']\n",
            " ['No']\n",
            " ['No']\n",
            " ['Yes']\n",
            " ['Yes']\n",
            " ['No']\n",
            " ['No']\n",
            " ['No']\n",
            " ['No']\n",
            " ['No']\n",
            " ['No']\n",
            " ['No']\n",
            " ['Yes']\n",
            " ['Yes']\n",
            " ['No']\n",
            " ['No']\n",
            " ['No']\n",
            " ['No']\n",
            " ['No']\n",
            " ['No']\n",
            " ['Yes']\n",
            " ['No']\n",
            " ['No']\n",
            " ['No']\n",
            " ['No']\n",
            " ['No']\n",
            " ['No']\n",
            " ['No']\n",
            " ['Yes']\n",
            " ['No']\n",
            " ['No']\n",
            " ['No']\n",
            " ['No']\n",
            " ['No']\n",
            " ['No']\n",
            " ['No']\n",
            " ['No']\n",
            " ['No']\n",
            " ['No']\n",
            " ['No']\n",
            " ['No']\n",
            " ['No']\n",
            " ['No']\n",
            " ['No']\n",
            " ['No']\n",
            " ['Yes']\n",
            " ['Yes']\n",
            " ['No']\n",
            " ['No']\n",
            " ['No']\n",
            " ['No']\n",
            " ['No']\n",
            " ['No']\n",
            " ['No']\n",
            " ['Yes']\n",
            " ['No']\n",
            " ['No']\n",
            " ['No']\n",
            " ['No']\n",
            " ['No']\n",
            " ['No']\n",
            " ['No']\n",
            " ['No']\n",
            " ['No']\n",
            " ['Yes']\n",
            " ['Yes']\n",
            " ['No']\n",
            " ['No']\n",
            " ['No']\n",
            " ['No']\n",
            " ['No']\n",
            " ['No']\n",
            " ['No']\n",
            " ['No']\n",
            " ['No']\n",
            " ['No']\n",
            " ['No']\n",
            " ['No']\n",
            " ['No']\n",
            " ['Yes']\n",
            " ['No']\n",
            " ['No']\n",
            " ['No']\n",
            " ['No']\n",
            " ['No']\n",
            " ['No']\n",
            " ['No']\n",
            " ['No']\n",
            " ['No']\n",
            " ['No']\n",
            " ['No']\n",
            " ['No']\n",
            " ['No']\n",
            " ['No']\n",
            " ['No']\n",
            " ['No']\n",
            " ['No']\n",
            " ['Yes']\n",
            " ['No']\n",
            " ['No']\n",
            " ['No']\n",
            " ['No']\n",
            " ['No']\n",
            " ['No']\n",
            " ['No']\n",
            " ['No']\n",
            " ['No']\n",
            " ['Yes']\n",
            " ['Yes']\n",
            " ['No']\n",
            " ['No']\n",
            " ['No']\n",
            " ['No']\n",
            " ['No']\n",
            " ['No']\n",
            " ['No']\n",
            " ['Yes']\n",
            " ['No']\n",
            " ['No']\n",
            " ['No']\n",
            " ['No']\n",
            " ['No']\n",
            " ['Yes']\n",
            " ['Yes']\n",
            " ['No']\n",
            " ['No']\n",
            " ['No']\n",
            " ['No']\n",
            " ['No']\n",
            " ['No']\n",
            " ['No']\n",
            " ['No']\n",
            " ['Yes']\n",
            " ['No']\n",
            " ['No']\n",
            " ['No']\n",
            " ['No']\n",
            " ['No']\n",
            " ['No']\n",
            " ['No']\n",
            " ['No']\n",
            " ['No']\n",
            " ['No']\n",
            " ['Yes']\n",
            " ['No']\n",
            " ['No']\n",
            " ['No']\n",
            " ['No']\n",
            " ['No']\n",
            " ['No']\n",
            " ['Yes']\n",
            " ['No']\n",
            " ['No']\n",
            " ['Yes']\n",
            " ['No']\n",
            " ['No']\n",
            " ['No']\n",
            " ['No']\n",
            " ['No']\n",
            " ['No']\n",
            " ['No']\n",
            " ['Yes']\n",
            " ['No']\n",
            " ['Yes']\n",
            " ['No']\n",
            " ['No']\n",
            " ['No']\n",
            " ['No']\n",
            " ['No']\n",
            " ['No']\n",
            " ['Yes']\n",
            " ['No']\n",
            " ['No']\n",
            " ['No']\n",
            " ['No']\n",
            " ['Yes']\n",
            " ['No']\n",
            " ['No']\n",
            " ['No']\n",
            " ['Yes']\n",
            " ['No']\n",
            " ['Yes']\n",
            " ['No']\n",
            " ['No']\n",
            " ['No']\n",
            " ['No']\n",
            " ['No']\n",
            " ['No']\n",
            " ['No']\n",
            " ['No']\n",
            " ['No']\n",
            " ['No']\n",
            " ['No']\n",
            " ['No']\n",
            " ['No']\n",
            " ['No']\n",
            " ['No']\n",
            " ['No']\n",
            " ['No']\n",
            " ['No']\n",
            " ['No']\n",
            " ['No']\n",
            " ['No']\n",
            " ['No']\n",
            " ['Yes']\n",
            " ['Yes']\n",
            " ['No']\n",
            " ['No']\n",
            " ['No']\n",
            " ['No']\n",
            " ['No']\n",
            " ['No']\n",
            " ['No']\n",
            " ['No']\n",
            " ['No']\n",
            " ['No']\n",
            " ['No']\n",
            " ['No']\n",
            " ['Yes']\n",
            " ['Yes']\n",
            " ['Yes']\n",
            " ['No']\n",
            " ['No']\n",
            " ['No']\n",
            " ['No']\n",
            " ['No']\n",
            " ['No']\n",
            " ['Yes']\n",
            " ['No']\n",
            " ['No']\n",
            " ['No']\n",
            " ['No']\n",
            " ['No']\n",
            " ['No']\n",
            " ['No']\n",
            " ['No']\n",
            " ['No']\n",
            " ['No']\n",
            " ['Yes']\n",
            " ['Yes']\n",
            " ['No']\n",
            " ['Yes']\n",
            " ['No']\n",
            " ['No']\n",
            " ['No']\n",
            " ['No']\n",
            " ['No']\n",
            " ['No']\n",
            " ['Yes']\n",
            " ['No']\n",
            " ['No']\n",
            " ['No']\n",
            " ['No']\n",
            " ['No']\n",
            " ['No']\n",
            " ['No']\n",
            " ['No']\n",
            " ['No']\n",
            " ['No']\n",
            " ['No']\n",
            " ['No']\n",
            " ['No']\n",
            " ['No']\n",
            " ['No']\n",
            " ['No']\n",
            " ['No']\n",
            " ['No']]\n"
          ]
        }
      ],
      "source": [
        "print(Y)"
      ]
    },
    {
      "cell_type": "code",
      "execution_count": null,
      "metadata": {
        "colab": {
          "base_uri": "https://localhost:8080/"
        },
        "id": "jvV9qOpfSH_s",
        "outputId": "66e3cb11-026d-485a-beb1-fc8d9b96c072"
      },
      "outputs": [
        {
          "output_type": "stream",
          "name": "stderr",
          "text": [
            "/usr/local/lib/python3.10/dist-packages/sklearn/preprocessing/_label.py:116: DataConversionWarning: A column-vector y was passed when a 1d array was expected. Please change the shape of y to (n_samples, ), for example using ravel().\n",
            "  y = column_or_1d(y, warn=True)\n"
          ]
        }
      ],
      "source": [
        "#it gives some number to the string bcz ML doesnt accept string\n",
        "from sklearn.preprocessing import LabelEncoder\n",
        "le1 = LabelEncoder()\n",
        "X[:,3] = le1.fit_transform(X[:,3])\n",
        "le2 = LabelEncoder()\n",
        "X[:,5] = le2.fit_transform(X[:,5])\n",
        "le3 = LabelEncoder()\n",
        "X[:,6] = le3.fit_transform(X[:,6])\n",
        "le4 = LabelEncoder()\n",
        "X[:,-1] = le3.fit_transform(X[:,-1])\n",
        "le5 = LabelEncoder()\n",
        "Y = le5.fit_transform(Y)"
      ]
    },
    {
      "cell_type": "code",
      "execution_count": null,
      "metadata": {
        "colab": {
          "base_uri": "https://localhost:8080/"
        },
        "id": "JBqMjBPzU_Iu",
        "outputId": "d6e3fd7f-17ff-4f56-8d29-97fc391cfffb"
      },
      "outputs": [
        {
          "output_type": "stream",
          "name": "stdout",
          "text": [
            "[[8.0 24.3 0.0 ... 14.4 23.6 0]\n",
            " [14.0 26.9 3.6 ... 17.5 25.7 1]\n",
            " [13.7 23.4 3.6 ... 15.4 20.2 1]\n",
            " ...\n",
            " [12.5 19.9 0.0 ... 14.5 18.3 0]\n",
            " [12.5 26.9 0.0 ... 15.8 25.9 0]\n",
            " [12.3 30.2 0.0 ... 23.8 28.6 0]]\n"
          ]
        }
      ],
      "source": [
        "print(X)"
      ]
    },
    {
      "cell_type": "code",
      "execution_count": null,
      "metadata": {
        "colab": {
          "base_uri": "https://localhost:8080/"
        },
        "id": "bIxuKKJ7VAuD",
        "outputId": "950d72f4-4396-4267-80a5-221b1832ec41"
      },
      "outputs": [
        {
          "output_type": "stream",
          "name": "stdout",
          "text": [
            "[1 1 1 1 0 0 0 0 1 0 0 0 0 0 0 0 1 0 0 0 0 1 0 0 0 0 0 0 0 1 1 0 1 0 0 0 1\n",
            " 0 0 0 0 0 0 0 1 1 0 0 1 1 1 1 0 1 0 0 1 0 0 0 0 0 0 0 0 0 0 0 0 0 0 0 1 0\n",
            " 0 0 1 0 1 1 0 0 0 0 0 0 0 0 0 0 1 1 0 0 1 1 0 0 1 0 0 0 1 1 0 0 0 0 0 0 0\n",
            " 1 1 0 0 0 0 0 0 1 0 0 0 0 0 0 0 1 0 0 0 0 0 0 0 0 0 0 0 0 0 0 0 0 1 1 0 0\n",
            " 0 0 0 0 0 1 0 0 0 0 0 0 0 0 0 1 1 0 0 0 0 0 0 0 0 0 0 0 0 0 1 0 0 0 0 0 0\n",
            " 0 0 0 0 0 0 0 0 0 0 0 1 0 0 0 0 0 0 0 0 0 1 1 0 0 0 0 0 0 0 1 0 0 0 0 0 1\n",
            " 1 0 0 0 0 0 0 0 0 1 0 0 0 0 0 0 0 0 0 0 1 0 0 0 0 0 0 1 0 0 1 0 0 0 0 0 0\n",
            " 0 1 0 1 0 0 0 0 0 0 1 0 0 0 0 1 0 0 0 1 0 1 0 0 0 0 0 0 0 0 0 0 0 0 0 0 0\n",
            " 0 0 0 0 0 0 0 1 1 0 0 0 0 0 0 0 0 0 0 0 0 1 1 1 0 0 0 0 0 0 1 0 0 0 0 0 0\n",
            " 0 0 0 0 1 1 0 1 0 0 0 0 0 0 1 0 0 0 0 0 0 0 0 0 0 0 0 0 0 0 0 0 0]\n"
          ]
        }
      ],
      "source": [
        "print(Y)"
      ]
    },
    {
      "cell_type": "markdown",
      "metadata": {
        "id": "Cyufx0J-VhGU"
      },
      "source": [
        "# Feature Scaling\n"
      ]
    },
    {
      "cell_type": "code",
      "execution_count": null,
      "metadata": {
        "id": "EVa6Yhk1VtZO"
      },
      "outputs": [],
      "source": [
        "#to get the data in range\n",
        "from sklearn.preprocessing import StandardScaler\n",
        "sc = StandardScaler()\n",
        "X = sc.fit_transform(X)"
      ]
    },
    {
      "cell_type": "code",
      "execution_count": null,
      "metadata": {
        "colab": {
          "base_uri": "https://localhost:8080/"
        },
        "id": "Wi7m2TdcW5Wd",
        "outputId": "1dffec45-4504-487a-a32e-61ab3eed76df"
      },
      "outputs": [
        {
          "output_type": "stream",
          "name": "stdout",
          "text": [
            "[[ 0.12204713  0.5612213  -0.33848522 ...  0.36305908  0.65886728\n",
            "  -0.46904158]\n",
            " [ 1.11912864  0.95036308  0.51459076 ...  0.91435303  0.97554878\n",
            "   2.13200716]\n",
            " [ 1.06927456  0.42651837  0.51459076 ...  0.54089584  0.14614485\n",
            "   2.13200716]\n",
            " ...\n",
            " [ 0.86985826 -0.09732634 -0.33848522 ...  0.38084276 -0.14037651\n",
            "  -0.46904158]\n",
            " [ 0.86985826  0.95036308 -0.33848522 ...  0.61203054  1.00570892\n",
            "  -0.46904158]\n",
            " [ 0.83662221  1.44427381 -0.33848522 ...  2.0347246   1.41287086\n",
            "  -0.46904158]]\n"
          ]
        }
      ],
      "source": [
        "print(X)"
      ]
    },
    {
      "cell_type": "markdown",
      "metadata": {
        "id": "lJ23iHjlb4Q8"
      },
      "source": [
        "# Splitting Dataset into Training Dataset and Test set"
      ]
    },
    {
      "cell_type": "code",
      "execution_count": null,
      "metadata": {
        "id": "kXUJYSdBcC5y"
      },
      "outputs": [],
      "source": [
        "from sklearn.model_selection import train_test_split\n",
        "X_train,X_test,Y_train,Y_test = train_test_split(X,Y,test_size=0.2,random_state=0)\n",
        "#due to this we are getting the data from 2d to 1d"
      ]
    },
    {
      "cell_type": "code",
      "execution_count": null,
      "metadata": {
        "colab": {
          "base_uri": "https://localhost:8080/"
        },
        "id": "jOOIF8SNduSu",
        "outputId": "4f892eb4-840a-4d55-e8f2-622589e9b23f"
      },
      "outputs": [
        {
          "output_type": "stream",
          "name": "stdout",
          "text": [
            "[[ 1.43487111  0.42651837 -0.33848522 ...  1.21667552  0.46282635\n",
            "  -0.46904158]\n",
            " [-1.00797857 -0.68103902 -0.33848522 ... -1.0418513  -0.69833916\n",
            "  -0.46904158]\n",
            " [-1.19077684 -0.57627007 -0.33848522 ... -0.5972594  -0.65309895\n",
            "  -0.46904158]\n",
            " ...\n",
            " [ 0.95294839  1.14493397 -0.33848522 ...  0.89656936  1.17158971\n",
            "  -0.46904158]\n",
            " [ 0.03895701  0.05234358 -0.33848522 ...  0.52311217  0.08582456\n",
            "  -0.46904158]\n",
            " [-0.80856227  0.0074426  -0.33848522 ... -0.31272059  0.08582456\n",
            "  -0.46904158]]\n"
          ]
        }
      ],
      "source": [
        "print(X_train)"
      ]
    },
    {
      "cell_type": "code",
      "execution_count": null,
      "metadata": {
        "colab": {
          "base_uri": "https://localhost:8080/"
        },
        "id": "fZAxTyUKdygK",
        "outputId": "9686084c-c83b-420c-a727-947b1ab53a5a"
      },
      "outputs": [
        {
          "output_type": "stream",
          "name": "stdout",
          "text": [
            "[0 0 0 1 0 0 1 1 0 1 0 0 0 0 1 0 0 0 0 0 0 0 0 0 0 0 0 0 0 0 0 0 1 1 0 0 1\n",
            " 0 0 0 0 0 0 0 0 0 1 1 1 0 0 0 0 0 0 0 0 0 0 0 0 0 0 1 0 0 0 0 0 0 0 1 0 0\n",
            " 0 0 0 0 1 0 0 0 0 0 1 0 0 0 0 0 0 0 1 0 0 0 0 0 1 0 0 0 1 0 0 0 0 0 1 0 0\n",
            " 0 0 0 1 0 0 0 0 0 0 0 0 0 0 0 0 0 0 1 0 0 0 0 0 0 0 0 0 0 0 0 0 0 0 0 0 1\n",
            " 0 1 0 1 0 0 0 1 1 1 0 0 1 0 0 0 0 1 1 0 0 0 0 0 0 0 1 1 0 0 0 0 0 1 0 0 0\n",
            " 1 0 0 0 0 0 1 0 0 0 0 0 0 1 0 0 1 1 0 1 0 1 1 0 0 1 1 0 0 0 0 0 0 0 0 1 0\n",
            " 0 0 0 0 1 0 0 1 0 0 0 0 0 0 0 0 0 1 0 0 0 0 0 1 0 0 0 0 1 1 0 0 0 0 0 0 0\n",
            " 0 0 0 0 0 0 0 1 0 0 0 1 0 0 0 0 0 0 0 0 0 0 1 0 0 0 0 0 0 0 0 0 0]\n"
          ]
        }
      ],
      "source": [
        "print(Y_train)"
      ]
    },
    {
      "cell_type": "markdown",
      "metadata": {
        "id": "WsKPxDmjlpPi"
      },
      "source": [
        "# To replace NAN by mean"
      ]
    },
    {
      "cell_type": "code",
      "execution_count": null,
      "metadata": {
        "id": "0LqbjPeDlSCx"
      },
      "outputs": [],
      "source": [
        "from sklearn.impute import SimpleImputer\n",
        "imputer = SimpleImputer(strategy=\"mean\")  # Replace NaN values with the mean\n",
        "X_train = imputer.fit_transform(X_train)\n"
      ]
    },
    {
      "cell_type": "code",
      "execution_count": null,
      "metadata": {
        "colab": {
          "base_uri": "https://localhost:8080/"
        },
        "id": "U-mAxlaMba3i",
        "outputId": "ea539ace-e01e-40bc-fa11-4ecf6389310b"
      },
      "outputs": [
        {
          "output_type": "stream",
          "name": "stdout",
          "text": [
            "[[ 1.43487111  0.42651837 -0.33848522 ...  1.21667552  0.46282635\n",
            "  -0.46904158]\n",
            " [-1.00797857 -0.68103902 -0.33848522 ... -1.0418513  -0.69833916\n",
            "  -0.46904158]\n",
            " [-1.19077684 -0.57627007 -0.33848522 ... -0.5972594  -0.65309895\n",
            "  -0.46904158]\n",
            " ...\n",
            " [ 0.95294839  1.14493397 -0.33848522 ...  0.89656936  1.17158971\n",
            "  -0.46904158]\n",
            " [ 0.03895701  0.05234358 -0.33848522 ...  0.52311217  0.08582456\n",
            "  -0.46904158]\n",
            " [-0.80856227  0.0074426  -0.33848522 ... -0.31272059  0.08582456\n",
            "  -0.46904158]]\n"
          ]
        }
      ],
      "source": [
        "print(X_train)"
      ]
    },
    {
      "cell_type": "markdown",
      "metadata": {
        "id": "5Xktf8Vzd3wW"
      },
      "source": [
        "# Training Model"
      ]
    },
    {
      "cell_type": "code",
      "execution_count": null,
      "metadata": {
        "colab": {
          "base_uri": "https://localhost:8080/",
          "height": 74
        },
        "id": "CgmEW4IRd704",
        "outputId": "be36196b-2a6c-4d64-8897-10c0b7adf4ec"
      },
      "outputs": [
        {
          "output_type": "execute_result",
          "data": {
            "text/plain": [
              "RandomForestClassifier(random_state=0)"
            ],
            "text/html": [
              "<style>#sk-container-id-1 {color: black;background-color: white;}#sk-container-id-1 pre{padding: 0;}#sk-container-id-1 div.sk-toggleable {background-color: white;}#sk-container-id-1 label.sk-toggleable__label {cursor: pointer;display: block;width: 100%;margin-bottom: 0;padding: 0.3em;box-sizing: border-box;text-align: center;}#sk-container-id-1 label.sk-toggleable__label-arrow:before {content: \"▸\";float: left;margin-right: 0.25em;color: #696969;}#sk-container-id-1 label.sk-toggleable__label-arrow:hover:before {color: black;}#sk-container-id-1 div.sk-estimator:hover label.sk-toggleable__label-arrow:before {color: black;}#sk-container-id-1 div.sk-toggleable__content {max-height: 0;max-width: 0;overflow: hidden;text-align: left;background-color: #f0f8ff;}#sk-container-id-1 div.sk-toggleable__content pre {margin: 0.2em;color: black;border-radius: 0.25em;background-color: #f0f8ff;}#sk-container-id-1 input.sk-toggleable__control:checked~div.sk-toggleable__content {max-height: 200px;max-width: 100%;overflow: auto;}#sk-container-id-1 input.sk-toggleable__control:checked~label.sk-toggleable__label-arrow:before {content: \"▾\";}#sk-container-id-1 div.sk-estimator input.sk-toggleable__control:checked~label.sk-toggleable__label {background-color: #d4ebff;}#sk-container-id-1 div.sk-label input.sk-toggleable__control:checked~label.sk-toggleable__label {background-color: #d4ebff;}#sk-container-id-1 input.sk-hidden--visually {border: 0;clip: rect(1px 1px 1px 1px);clip: rect(1px, 1px, 1px, 1px);height: 1px;margin: -1px;overflow: hidden;padding: 0;position: absolute;width: 1px;}#sk-container-id-1 div.sk-estimator {font-family: monospace;background-color: #f0f8ff;border: 1px dotted black;border-radius: 0.25em;box-sizing: border-box;margin-bottom: 0.5em;}#sk-container-id-1 div.sk-estimator:hover {background-color: #d4ebff;}#sk-container-id-1 div.sk-parallel-item::after {content: \"\";width: 100%;border-bottom: 1px solid gray;flex-grow: 1;}#sk-container-id-1 div.sk-label:hover label.sk-toggleable__label {background-color: #d4ebff;}#sk-container-id-1 div.sk-serial::before {content: \"\";position: absolute;border-left: 1px solid gray;box-sizing: border-box;top: 0;bottom: 0;left: 50%;z-index: 0;}#sk-container-id-1 div.sk-serial {display: flex;flex-direction: column;align-items: center;background-color: white;padding-right: 0.2em;padding-left: 0.2em;position: relative;}#sk-container-id-1 div.sk-item {position: relative;z-index: 1;}#sk-container-id-1 div.sk-parallel {display: flex;align-items: stretch;justify-content: center;background-color: white;position: relative;}#sk-container-id-1 div.sk-item::before, #sk-container-id-1 div.sk-parallel-item::before {content: \"\";position: absolute;border-left: 1px solid gray;box-sizing: border-box;top: 0;bottom: 0;left: 50%;z-index: -1;}#sk-container-id-1 div.sk-parallel-item {display: flex;flex-direction: column;z-index: 1;position: relative;background-color: white;}#sk-container-id-1 div.sk-parallel-item:first-child::after {align-self: flex-end;width: 50%;}#sk-container-id-1 div.sk-parallel-item:last-child::after {align-self: flex-start;width: 50%;}#sk-container-id-1 div.sk-parallel-item:only-child::after {width: 0;}#sk-container-id-1 div.sk-dashed-wrapped {border: 1px dashed gray;margin: 0 0.4em 0.5em 0.4em;box-sizing: border-box;padding-bottom: 0.4em;background-color: white;}#sk-container-id-1 div.sk-label label {font-family: monospace;font-weight: bold;display: inline-block;line-height: 1.2em;}#sk-container-id-1 div.sk-label-container {text-align: center;}#sk-container-id-1 div.sk-container {/* jupyter's `normalize.less` sets `[hidden] { display: none; }` but bootstrap.min.css set `[hidden] { display: none !important; }` so we also need the `!important` here to be able to override the default hidden behavior on the sphinx rendered scikit-learn.org. See: https://github.com/scikit-learn/scikit-learn/issues/21755 */display: inline-block !important;position: relative;}#sk-container-id-1 div.sk-text-repr-fallback {display: none;}</style><div id=\"sk-container-id-1\" class=\"sk-top-container\"><div class=\"sk-text-repr-fallback\"><pre>RandomForestClassifier(random_state=0)</pre><b>In a Jupyter environment, please rerun this cell to show the HTML representation or trust the notebook. <br />On GitHub, the HTML representation is unable to render, please try loading this page with nbviewer.org.</b></div><div class=\"sk-container\" hidden><div class=\"sk-item\"><div class=\"sk-estimator sk-toggleable\"><input class=\"sk-toggleable__control sk-hidden--visually\" id=\"sk-estimator-id-1\" type=\"checkbox\" checked><label for=\"sk-estimator-id-1\" class=\"sk-toggleable__label sk-toggleable__label-arrow\">RandomForestClassifier</label><div class=\"sk-toggleable__content\"><pre>RandomForestClassifier(random_state=0)</pre></div></div></div></div></div>"
            ]
          },
          "metadata": {},
          "execution_count": 20
        }
      ],
      "source": [
        "from sklearn.ensemble import RandomForestClassifier\n",
        "classifier = RandomForestClassifier(n_estimators=100,random_state=0)\n",
        "classifier.fit(X_train,Y_train)"
      ]
    },
    {
      "cell_type": "code",
      "execution_count": null,
      "metadata": {
        "colab": {
          "base_uri": "https://localhost:8080/"
        },
        "id": "ikt95nV3zzoj",
        "outputId": "a6f18839-489d-4b48-fd5e-16acd6f54703"
      },
      "outputs": [
        {
          "output_type": "execute_result",
          "data": {
            "text/plain": [
              "1.0"
            ]
          },
          "metadata": {},
          "execution_count": 21
        }
      ],
      "source": [
        "classifier.score(X_train,Y_train)"
      ]
    },
    {
      "cell_type": "code",
      "execution_count": null,
      "metadata": {
        "id": "vr9Wm7eh47Ez"
      },
      "outputs": [],
      "source": [
        "from sklearn.impute import SimpleImputer\n",
        "\n",
        "# Assuming X_train is your training data\n",
        "imputer = SimpleImputer(strategy='mean')\n",
        "X_test_imputed = imputer.fit_transform(X_test)\n"
      ]
    },
    {
      "cell_type": "code",
      "execution_count": null,
      "metadata": {
        "colab": {
          "base_uri": "https://localhost:8080/"
        },
        "id": "TWKZ5GTScc2m",
        "outputId": "922a5f88-2521-4502-9565-2ed01f968a60"
      },
      "outputs": [
        {
          "output_type": "stream",
          "name": "stdout",
          "text": [
            "[0 0 1 0 1 1 1 0 0 0 0 0 0 0 0 0 0 0 1 0 0 0 0 0 0 0 0 0 0 0 0 1 0 0 0 0 0\n",
            " 0 0 0 1 1 0 1 0 0 0 0 0 0 0 0 0 1 0 0 0 0 0 1 1 0 0 0 0 0 1 0 0 0 0 0 0 0]\n"
          ]
        }
      ],
      "source": [
        "print(Y_test)"
      ]
    },
    {
      "cell_type": "code",
      "execution_count": null,
      "metadata": {
        "colab": {
          "base_uri": "https://localhost:8080/"
        },
        "id": "Qd-BqOlvciaA",
        "outputId": "7b2f1859-a486-4e68-f741-93c3bfb2f9d7"
      },
      "outputs": [
        {
          "output_type": "stream",
          "name": "stdout",
          "text": [
            "[[ 0.58735184  0.69592422 -0.33848522 ...  0.46976114  0.76442778\n",
            "  -0.46904158]\n",
            " [-1.50651932 -1.35455364 -0.33848522 ... -1.96660243 -1.24122174\n",
            "  -0.46904158]\n",
            " [ 1.36839901  0.08227756  0.94112876 ...  0.75429995  0.1159847\n",
            "   2.13200716]\n",
            " ...\n",
            " [ 0.18851924 -0.66607202 -0.33848522 ...  0.22078968 -0.60785873\n",
            "  -0.46904158]\n",
            " [ 0.90309431  0.68095723 -0.33848522 ...  0.59424687  0.79458792\n",
            "  -0.46904158]\n",
            " [-1.30710302 -1.2497847  -0.33848522 ... -0.97071659 -1.28646195\n",
            "  -0.46904158]]\n"
          ]
        }
      ],
      "source": [
        "print(X_test)"
      ]
    },
    {
      "cell_type": "code",
      "execution_count": null,
      "metadata": {
        "id": "P0LfJ7CWb9sU"
      },
      "outputs": [],
      "source": [
        "y_pred = classifier.predict(X_test_imputed)"
      ]
    },
    {
      "cell_type": "code",
      "source": [
        "print(y_pred)"
      ],
      "metadata": {
        "colab": {
          "base_uri": "https://localhost:8080/"
        },
        "id": "GW6sdpRevPzN",
        "outputId": "aa6e2d6c-8efb-48e0-aac0-7e497111da09"
      },
      "execution_count": null,
      "outputs": [
        {
          "output_type": "stream",
          "name": "stdout",
          "text": [
            "[0 0 1 0 0 0 0 0 0 0 0 0 0 0 0 0 0 0 0 1 0 0 0 0 0 0 0 0 0 0 0 0 0 0 0 0 0\n",
            " 0 0 0 0 0 0 0 0 0 0 0 0 0 0 0 0 0 0 0 0 0 0 1 1 0 0 0 0 0 0 0 0 0 0 0 0 0]\n"
          ]
        }
      ]
    },
    {
      "cell_type": "code",
      "source": [
        "y_pred = le5.inverse_transform(y_pred)\n"
      ],
      "metadata": {
        "id": "EEH5OpRIvc2-"
      },
      "execution_count": null,
      "outputs": []
    },
    {
      "cell_type": "code",
      "source": [
        "print(y_pred)"
      ],
      "metadata": {
        "colab": {
          "base_uri": "https://localhost:8080/"
        },
        "id": "TahrJ7yCwnAT",
        "outputId": "ef95eb82-abf9-4abc-9ab9-06e0701820e3"
      },
      "execution_count": null,
      "outputs": [
        {
          "output_type": "stream",
          "name": "stdout",
          "text": [
            "['No' 'No' 'Yes' 'No' 'No' 'No' 'No' 'No' 'No' 'No' 'No' 'No' 'No' 'No'\n",
            " 'No' 'No' 'No' 'No' 'No' 'Yes' 'No' 'No' 'No' 'No' 'No' 'No' 'No' 'No'\n",
            " 'No' 'No' 'No' 'No' 'No' 'No' 'No' 'No' 'No' 'No' 'No' 'No' 'No' 'No'\n",
            " 'No' 'No' 'No' 'No' 'No' 'No' 'No' 'No' 'No' 'No' 'No' 'No' 'No' 'No'\n",
            " 'No' 'No' 'No' 'Yes' 'Yes' 'No' 'No' 'No' 'No' 'No' 'No' 'No' 'No' 'No'\n",
            " 'No' 'No' 'No' 'No']\n"
          ]
        }
      ]
    },
    {
      "cell_type": "code",
      "source": [
        "print(Y_test)"
      ],
      "metadata": {
        "colab": {
          "base_uri": "https://localhost:8080/"
        },
        "id": "yG5iqsx4w31M",
        "outputId": "9c947038-f464-445f-903e-224b9bebce78"
      },
      "execution_count": null,
      "outputs": [
        {
          "output_type": "stream",
          "name": "stdout",
          "text": [
            "[0 0 1 0 1 1 1 0 0 0 0 0 0 0 0 0 0 0 1 0 0 0 0 0 0 0 0 0 0 0 0 1 0 0 0 0 0\n",
            " 0 0 0 1 1 0 1 0 0 0 0 0 0 0 0 0 1 0 0 0 0 0 1 1 0 0 0 0 0 1 0 0 0 0 0 0 0]\n"
          ]
        }
      ]
    },
    {
      "cell_type": "code",
      "source": [
        "Y_test = le5.inverse_transform(Y_test)"
      ],
      "metadata": {
        "id": "AV-ahgYlxkLK",
        "colab": {
          "base_uri": "https://localhost:8080/"
        },
        "outputId": "5a499d7a-cfa2-49b6-e316-c49570af0081"
      },
      "execution_count": null,
      "outputs": [
        {
          "output_type": "stream",
          "name": "stderr",
          "text": [
            "/usr/local/lib/python3.10/dist-packages/sklearn/preprocessing/_label.py:155: DataConversionWarning: A column-vector y was passed when a 1d array was expected. Please change the shape of y to (n_samples, ), for example using ravel().\n",
            "  y = column_or_1d(y, warn=True)\n"
          ]
        }
      ]
    },
    {
      "cell_type": "code",
      "source": [
        "print(Y_test)"
      ],
      "metadata": {
        "colab": {
          "base_uri": "https://localhost:8080/"
        },
        "id": "2tx2xeZsx2eO",
        "outputId": "e9bc34e2-bcdb-40c1-d29e-7b78cc8dfd19"
      },
      "execution_count": null,
      "outputs": [
        {
          "output_type": "stream",
          "name": "stdout",
          "text": [
            "[0 0 1 0 1 1 1 0 0 0 0 0 0 0 0 0 0 0 1 0 0 0 0 0 0 0 0 0 0 0 0 1 0 0 0 0 0\n",
            " 0 0 0 1 1 0 1 0 0 0 0 0 0 0 0 0 1 0 0 0 0 0 1 1 0 0 0 0 0 1 0 0 0 0 0 0 0]\n"
          ]
        }
      ]
    },
    {
      "cell_type": "code",
      "source": [
        "Y_test = Y_test.reshape(-1,1)\n",
        "y_pred = y_pred.reshape(-1,1)"
      ],
      "metadata": {
        "id": "i6OFLQ8ryQfl"
      },
      "execution_count": null,
      "outputs": []
    },
    {
      "cell_type": "code",
      "source": [
        "df = np.concatenate((Y_test,y_pred),axis=1)\n",
        "dataframe = pd.DataFrame(df,columns=['Rain on Tomorrow','Prediction of Rain'])\n"
      ],
      "metadata": {
        "id": "Fth6odFPyxf2"
      },
      "execution_count": null,
      "outputs": []
    },
    {
      "cell_type": "code",
      "source": [
        "print(df)"
      ],
      "metadata": {
        "colab": {
          "base_uri": "https://localhost:8080/"
        },
        "id": "qDZEgZdX4MZI",
        "outputId": "56c02059-92a2-4143-dbd5-2e27cdfc9f2f"
      },
      "execution_count": null,
      "outputs": [
        {
          "output_type": "stream",
          "name": "stdout",
          "text": [
            "[[0 'No']\n",
            " [0 'No']\n",
            " [1 'Yes']\n",
            " [0 'No']\n",
            " [1 'No']\n",
            " [1 'No']\n",
            " [1 'No']\n",
            " [0 'No']\n",
            " [0 'No']\n",
            " [0 'No']\n",
            " [0 'No']\n",
            " [0 'No']\n",
            " [0 'No']\n",
            " [0 'No']\n",
            " [0 'No']\n",
            " [0 'No']\n",
            " [0 'No']\n",
            " [0 'No']\n",
            " [1 'No']\n",
            " [0 'Yes']\n",
            " [0 'No']\n",
            " [0 'No']\n",
            " [0 'No']\n",
            " [0 'No']\n",
            " [0 'No']\n",
            " [0 'No']\n",
            " [0 'No']\n",
            " [0 'No']\n",
            " [0 'No']\n",
            " [0 'No']\n",
            " [0 'No']\n",
            " [1 'No']\n",
            " [0 'No']\n",
            " [0 'No']\n",
            " [0 'No']\n",
            " [0 'No']\n",
            " [0 'No']\n",
            " [0 'No']\n",
            " [0 'No']\n",
            " [0 'No']\n",
            " [1 'No']\n",
            " [1 'No']\n",
            " [0 'No']\n",
            " [1 'No']\n",
            " [0 'No']\n",
            " [0 'No']\n",
            " [0 'No']\n",
            " [0 'No']\n",
            " [0 'No']\n",
            " [0 'No']\n",
            " [0 'No']\n",
            " [0 'No']\n",
            " [0 'No']\n",
            " [1 'No']\n",
            " [0 'No']\n",
            " [0 'No']\n",
            " [0 'No']\n",
            " [0 'No']\n",
            " [0 'No']\n",
            " [1 'Yes']\n",
            " [1 'Yes']\n",
            " [0 'No']\n",
            " [0 'No']\n",
            " [0 'No']\n",
            " [0 'No']\n",
            " [0 'No']\n",
            " [1 'No']\n",
            " [0 'No']\n",
            " [0 'No']\n",
            " [0 'No']\n",
            " [0 'No']\n",
            " [0 'No']\n",
            " [0 'No']\n",
            " [0 'No']]\n"
          ]
        }
      ]
    },
    {
      "cell_type": "code",
      "source": [
        "print(dataframe)"
      ],
      "metadata": {
        "colab": {
          "base_uri": "https://localhost:8080/"
        },
        "id": "_HvIsdv01pP_",
        "outputId": "5975aec6-4614-4fad-f7dd-46ce72e51ee7"
      },
      "execution_count": null,
      "outputs": [
        {
          "output_type": "stream",
          "name": "stdout",
          "text": [
            "   Rain on Tomorrow Prediction of Rain\n",
            "0                 0                 No\n",
            "1                 0                 No\n",
            "2                 1                Yes\n",
            "3                 0                 No\n",
            "4                 1                 No\n",
            "..              ...                ...\n",
            "69                0                 No\n",
            "70                0                 No\n",
            "71                0                 No\n",
            "72                0                 No\n",
            "73                0                 No\n",
            "\n",
            "[74 rows x 2 columns]\n"
          ]
        }
      ]
    },
    {
      "cell_type": "markdown",
      "source": [
        "# Calulating Accuracy\n"
      ],
      "metadata": {
        "id": "ARE5_BTX5JD_"
      }
    },
    {
      "cell_type": "code",
      "source": [
        "from sklearn.metrics import accuracy_score\n",
        "accuracy_score(Y_test,y_pred)"
      ],
      "metadata": {
        "colab": {
          "base_uri": "https://localhost:8080/"
        },
        "id": "FYiI5HmW5OAT",
        "outputId": "a4140c40-c2fc-48fa-928f-9ea87aabf277"
      },
      "execution_count": null,
      "outputs": [
        {
          "output_type": "execute_result",
          "data": {
            "text/plain": [
              "0.8513513513513513"
            ]
          },
          "metadata": {},
          "execution_count": 38
        }
      ]
    },
    {
      "cell_type": "code",
      "source": [
        "dataframe.to_csv('Prediction.csv')"
      ],
      "metadata": {
        "id": "mjLGZ9df61Pb"
      },
      "execution_count": null,
      "outputs": []
    },
    {
      "cell_type": "code",
      "source": [
        "from google.colab import drive\n",
        "drive.mount('/content/drive')"
      ],
      "metadata": {
        "id": "gNqGYyDfAArB"
      },
      "execution_count": null,
      "outputs": []
    }
  ],
  "metadata": {
    "colab": {
      "provenance": []
    },
    "kernelspec": {
      "display_name": "Python 3",
      "name": "python3"
    },
    "language_info": {
      "name": "python"
    }
  },
  "nbformat": 4,
  "nbformat_minor": 0
}